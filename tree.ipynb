{
 "cells": [
  {
   "cell_type": "code",
   "execution_count": 35,
   "metadata": {},
   "outputs": [],
   "source": [
    "import numpy as np"
   ]
  },
  {
   "cell_type": "code",
   "execution_count": 82,
   "metadata": {},
   "outputs": [
    {
     "name": "stdout",
     "output_type": "stream",
     "text": [
      "[0, 1.999999999999993, 24.559418195298676]\n",
      "[91.10594001952546, 50.00000000000001, 27.440581804701324]\n",
      "20.328482987029957\n",
      "[2, 1, 0]\n"
     ]
    }
   ],
   "source": [
    "#call = S-K\n",
    "#put = S-K\n",
    "\n",
    "def binomial_tree(vol=0.3,days=2,strike=52,steps=2,S0=50,r=0.05,opt_type='put'):\n",
    "\n",
    "\n",
    "    delta_t = days/steps\n",
    "    u = np.exp(vol*np.sqrt(delta_t))\n",
    "    d = 1/u\n",
    "\n",
    "    p = (np.exp(r*delta_t)-d)/(u-d)\n",
    "\n",
    "\n",
    "    last_node = S0*d**steps\n",
    "\n",
    "    last_prices = []\n",
    "    last_prices.append(last_node)\n",
    "\n",
    "    \n",
    "    #Calculating Stock prices for the last nodes\n",
    "    for i in range(0,steps):\n",
    "        last_prices.append(last_prices[i]*u**2)\n",
    "\n",
    "\n",
    "    #Calculating option prices for last nodes\n",
    "    options_end_step = []\n",
    "    \n",
    "    if opt_type == 'put':\n",
    "        for j in  range(0,steps+1):\n",
    "            if strike-last_prices[j] >= 0:\n",
    "                options_end_step.append(strike-last_prices[j])\n",
    "            else:\n",
    "                options_end_step.append(0)\n",
    "    else:\n",
    "        pass\n",
    "\n",
    "\n",
    "\n",
    "\n",
    "    #Inversing list so that fuu will be the  first one\n",
    "    options_end_step.reverse()\n",
    "    last_prices.reverse()\n",
    "\n",
    "\n",
    "\n",
    "    list_steps = [i for i in range(steps)]\n",
    "    list_steps.reverse()\n",
    "\n",
    "\n",
    "    intermediate = []\n",
    "    for i  in list_steps:\n",
    "        intermediate.append(S0*u)\n",
    "\n",
    "\n",
    "\n",
    "\n",
    "    #f = np.exp(-r*delta_t) *(p*options_end_step[0] + (1-p)*options_end_step[1])\n",
    "\n",
    "\n",
    "    print(options_end_step)\n",
    "    print(last_prices)\n",
    "    print(last_prices[2]*d)\n",
    "    #print(f)\n",
    "    print(list_steps)\n",
    "\n",
    "binomial_tree()\n",
    "\n",
    "\n"
   ]
  },
  {
   "cell_type": "code",
   "execution_count": 87,
   "metadata": {},
   "outputs": [
    {
     "name": "stdout",
     "output_type": "stream",
     "text": [
      "[27.440581804701324, 50.00000000000001]\n",
      "[27.440581804701324, 50.00000000000001, 91.10594001952546]\n",
      "[27.440581804701324, 50.00000000000001, 91.10594001952546]\n",
      "[24.559418195298676, 24.559418195298676, 1.999999999999993]\n"
     ]
    }
   ],
   "source": [
    "#call = S-K\n",
    "#put = K-S\n",
    "\n",
    "def binomial_tree(vol=0.3,days=2,strike=52,steps=2,S0=50,r=0.05,opt_type='put'):\n",
    "\n",
    "\n",
    "    delta_t = days/steps\n",
    "    u = np.exp(vol*np.sqrt(delta_t))\n",
    "    d = 1/u\n",
    "\n",
    "    p = (np.exp(r*delta_t)-d)/(u-d)\n",
    "\n",
    "\n",
    "    last_price = S0*d**steps\n",
    "    last_opt_price = strike-last_price\n",
    "\n",
    "\n",
    "    last_prices = []\n",
    "    last_prices.append(last_price)\n",
    "\n",
    "    \n",
    "    options_end_step = []\n",
    "    options_end_step.append(last_opt_price)\n",
    "\n",
    "    \n",
    "    #Calculating Stock prices for the last nodes\n",
    "    for i in range(0,steps):\n",
    "        last_prices.append(last_prices[i]*u**2)\n",
    "        options_end_step.append(strike-last_prices[i])\n",
    "\n",
    "\n",
    "    print(last_prices)\n",
    "    print(options_end_step)\n",
    "    \n",
    "binomial_tree()\n",
    "\n",
    "\n"
   ]
  }
 ],
 "metadata": {
  "kernelspec": {
   "display_name": "Python 3.9.1 64-bit",
   "language": "python",
   "name": "python3"
  },
  "language_info": {
   "codemirror_mode": {
    "name": "ipython",
    "version": 3
   },
   "file_extension": ".py",
   "mimetype": "text/x-python",
   "name": "python",
   "nbconvert_exporter": "python",
   "pygments_lexer": "ipython3",
   "version": "3.9.1"
  },
  "orig_nbformat": 4,
  "vscode": {
   "interpreter": {
    "hash": "2fa1b40a2a2a5d416be087e21c88b4dba085ea6c1a1fc6128d0cac05d703887a"
   }
  }
 },
 "nbformat": 4,
 "nbformat_minor": 2
}
